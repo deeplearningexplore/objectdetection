{
  "nbformat": 4,
  "nbformat_minor": 0,
  "metadata": {
    "colab": {
      "name": "object_detection.ipynb",
      "provenance": [],
      "collapsed_sections": [],
      "authorship_tag": "ABX9TyNRsazQPJ53s3KPTSMvwGkd",
      "include_colab_link": true
    },
    "kernelspec": {
      "name": "python3",
      "display_name": "Python 3"
    },
    "accelerator": "GPU"
  },
  "cells": [
    {
      "cell_type": "markdown",
      "metadata": {
        "id": "view-in-github",
        "colab_type": "text"
      },
      "source": [
        "<a href=\"https://colab.research.google.com/github/deeplearningexplore/objectdetection/blob/master/object_detection.ipynb\" target=\"_parent\"><img src=\"https://colab.research.google.com/assets/colab-badge.svg\" alt=\"Open In Colab\"/></a>"
      ]
    },
    {
      "cell_type": "code",
      "metadata": {
        "id": "40WM_Xp3rt3N",
        "colab_type": "code",
        "colab": {}
      },
      "source": [
        "import tensorflow as tf\n",
        "import numpy as np\n",
        "import matplotlib.pyplot as plt\n",
        "import os\n",
        "import zipfile\n",
        "import pandas as pd\n",
        "\n",
        "%matplotlib inline"
      ],
      "execution_count": 54,
      "outputs": []
    },
    {
      "cell_type": "code",
      "metadata": {
        "id": "LWOPvVYJr_IR",
        "colab_type": "code",
        "colab": {
          "resources": {
            "http://localhost:8080/nbextensions/google.colab/files.js": {
              "data": "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",
              "ok": true,
              "headers": [
                [
                  "content-type",
                  "application/javascript"
                ]
              ],
              "status": 200,
              "status_text": ""
            }
          },
          "base_uri": "https://localhost:8080/",
          "height": 108
        },
        "outputId": "fb843cd4-1b0e-439a-db23-43bb7f529eda"
      },
      "source": [
        "!pip install -q kaggle\n",
        "from google.colab import files\n",
        "files.upload()\n",
        "! mkdir ~/.kaggle\n",
        "! cp kaggle.json ~/.kaggle/\n",
        "! chmod 600 ~/.kaggle/kaggle.json\n",
        "! kaggle datasets download twaldo/kitti-object-detection"
      ],
      "execution_count": null,
      "outputs": [
        {
          "output_type": "display_data",
          "data": {
            "text/html": [
              "\n",
              "     <input type=\"file\" id=\"files-9f11d93d-394e-4213-a874-2b543e59410b\" name=\"files[]\" multiple disabled\n",
              "        style=\"border:none\" />\n",
              "     <output id=\"result-9f11d93d-394e-4213-a874-2b543e59410b\">\n",
              "      Upload widget is only available when the cell has been executed in the\n",
              "      current browser session. Please rerun this cell to enable.\n",
              "      </output>\n",
              "      <script src=\"/nbextensions/google.colab/files.js\"></script> "
            ],
            "text/plain": [
              "<IPython.core.display.HTML object>"
            ]
          },
          "metadata": {
            "tags": []
          }
        },
        {
          "output_type": "stream",
          "text": [
            "Saving kaggle.json to kaggle (1).json\n",
            "mkdir: cannot create directory ‘/root/.kaggle’: File exists\n",
            "kitti-object-detection.zip: Skipping, found more recently modified local copy (use --force to force download)\n"
          ],
          "name": "stdout"
        }
      ]
    },
    {
      "cell_type": "code",
      "metadata": {
        "id": "6jcWE7JAsRRB",
        "colab_type": "code",
        "colab": {}
      },
      "source": [
        "zip = zipfile.ZipFile(\"kitti-object-detection.zip\", \"r\")\n",
        "zip.extractall(\"./data\")\n",
        "\n",
        "zip.close()"
      ],
      "execution_count": null,
      "outputs": []
    },
    {
      "cell_type": "code",
      "metadata": {
        "id": "5lvluTSKux0z",
        "colab_type": "code",
        "colab": {}
      },
      "source": [
        "!rm \"kitti-object-detection.zip\""
      ],
      "execution_count": null,
      "outputs": []
    },
    {
      "cell_type": "code",
      "metadata": {
        "id": "bIGnpBFcvBG7",
        "colab_type": "code",
        "colab": {
          "base_uri": "https://localhost:8080/",
          "height": 156
        },
        "outputId": "9f26d732-f1eb-4e17-acba-c6411df0dd1b"
      },
      "source": [
        "!cat data/kitti_single/training/label_2/004548.txt"
      ],
      "execution_count": 40,
      "outputs": [
        {
          "output_type": "stream",
          "text": [
            "Car 0.00 0 -1.56 589.44 172.09 611.95 193.76 1.66 1.73 3.05 -0.74 1.63 57.47 -1.57\n",
            "Truck 0.00 0 -1.63 618.98 159.19 650.60 188.67 2.85 2.63 12.34 2.50 1.60 76.69 -1.59\n",
            "Misc 0.00 0 2.00 245.25 162.27 308.07 212.95 2.74 2.14 3.05 -18.87 2.19 40.92 1.57\n",
            "Car 0.00 1 2.17 58.47 188.00 199.18 248.26 1.60 1.77 3.58 -14.28 2.08 21.60 1.59\n",
            "Car 0.00 1 1.90 347.71 181.52 395.13 206.97 1.52 1.76 3.66 -15.08 2.08 45.69 1.58\n",
            "Van 0.00 1 1.89 317.67 173.81 367.33 205.25 2.13 1.93 4.70 -19.14 2.23 51.78 1.54\n",
            "DontCare -1 -1 -10 449.24 177.30 462.80 185.03 -1 -1 -1 -1000 -1000 -1000 -10\n",
            "DontCare -1 -1 -10 482.23 175.36 511.31 184.06 -1 -1 -1 -1000 -1000 -1000 -10\n"
          ],
          "name": "stdout"
        }
      ]
    },
    {
      "cell_type": "code",
      "metadata": {
        "id": "HQbMiHOf0fGG",
        "colab_type": "code",
        "colab": {}
      },
      "source": [
        "images = os.path.join(cur,\"./data/kitti_single/training/image_2/\")\n",
        "text_files = os.path.join(cur,\"./data/kitti_single/training/label_2/\")\n",
        "items = os.listdir(images)"
      ],
      "execution_count": 55,
      "outputs": []
    },
    {
      "cell_type": "code",
      "metadata": {
        "id": "Qcv5eGsm0j3z",
        "colab_type": "code",
        "colab": {
          "base_uri": "https://localhost:8080/",
          "height": 35
        },
        "outputId": "087627ac-947d-424c-890f-6bd76bc61b39"
      },
      "source": [
        "images_data = []\n",
        "texts = []\n",
        "\n",
        "for item in items[:10]:\n",
        "  img = tf.keras.preprocessing.image.load_img(images + item)\n",
        "  img = tf.keras.preprocessing.image.img_to_array(img)\n",
        "  images_data.append(img.shape)\n",
        "  # print(img.shape)\n",
        "\n",
        "# print(images_data)\n",
        "images_data = np.array(images_data)\n",
        "images_data.mean(axis=0)\n"
      ],
      "execution_count": 66,
      "outputs": [
        {
          "output_type": "execute_result",
          "data": {
            "text/plain": [
              "array([ 374.1, 1238.3,    3. ])"
            ]
          },
          "metadata": {
            "tags": []
          },
          "execution_count": 66
        }
      ]
    },
    {
      "cell_type": "code",
      "metadata": {
        "id": "RlIV-0_m7uxc",
        "colab_type": "code",
        "colab": {
          "base_uri": "https://localhost:8080/",
          "height": 1000
        },
        "outputId": "022a9663-8cae-43f5-f258-0229030b8879"
      },
      "source": [
        "!cat data/readme.txt"
      ],
      "execution_count": 64,
      "outputs": [
        {
          "output_type": "stream",
          "text": [
            "###########################################################################\n",
            "#            THE KITTI VISION BENCHMARK SUITE: OBJECT BENCHMARK           #\n",
            "#              Andreas Geiger    Philip Lenz    Raquel Urtasun            #\n",
            "#                    Karlsruhe Institute of Technology                    #\n",
            "#                Toyota Technological Institute at Chicago                #\n",
            "#                             www.cvlibs.net                              #\n",
            "###########################################################################\n",
            "\n",
            "For recent updates see http://www.cvlibs.net/datasets/kitti/eval_object.php.\n",
            "\n",
            "This file describes the KITTI 2D object detection and orientation estimation\n",
            "benchmark, the 3D object detection benchmark and the bird's eye view benchmark.\n",
            "The benchmarks consist of 7481 training images (and point clouds) \n",
            "and 7518 test images (and point clouds) for each task.\n",
            "Despite the fact that we have labeled 8 different classes, only the\n",
            "classes 'Car' and 'Pedestrian' are evaluated in our benchmark, as only for\n",
            "those classes enough instances for a comprehensive evaluation have been\n",
            "labeled. The labeling process has been performed in two steps: First we\n",
            "hired a set of annotators, to label 3D bounding boxe tracklets in point\n",
            "clouds. Since for a pedestrian tracklet, a single 3D bounding box tracklet\n",
            "(dimensions have been fixed) often fits badly, we additionally labeled the\n",
            "left/right boundaries of each object by making use of Mechanical Turk. We\n",
            "also collected labels of the object's occlusion state, and computed the\n",
            "object's truncation via backprojecting a car/pedestrian model into the\n",
            "image plane.\n",
            "\n",
            "NOTE: WHEN SUBMITTING RESULTS, PLEASE STORE THEM IN THE SAME DATA FORMAT IN\n",
            "WHICH THE GROUND TRUTH DATA IS PROVIDED (SEE BELOW), USING THE FILE NAMES\n",
            "000000.txt 000001.txt ... CREATE A ZIP ARCHIVE OF THEM AND STORE YOUR\n",
            "RESULTS (ONLY THE RESULTS OF THE TEST SET) IN ITS ROOT FOLDER.\n",
            "\n",
            "NOTE2: Please read the bottom of this file carefully if you plan to evaluate\n",
            "results yourself on the training set.\n",
            "\n",
            "NOTE3: WHEN SUBMITTING RESULTS FOR THE 3D OBJECT DETECTION BENCHMARK OR THE\n",
            "BIRD'S EYE VIEW BENCHMARK (AS OF 2017), READ THE INSTRUCTIONS BELOW CAREFULLY.\n",
            "IN PARTICULAR, MAKE SURE TO ALWAYS SUBMIT BOTH THE 2D BOUNDING BOXES AND THE\n",
            "3D BOUNDING BOXES AND FILTER BOUNDING BOXES NOT VISIBLE ON THE IMAGE PLANE.\n",
            "\n",
            "Data Format Description\n",
            "=======================\n",
            "\n",
            "The data for training and testing can be found in the corresponding folders.\n",
            "The sub-folders are structured as follows:\n",
            "\n",
            "  - image_02/ contains the left color camera images (png)\n",
            "  - label_02/ contains the left color camera label files (plain text files)\n",
            "  - calib/ contains the calibration for all four cameras (plain text file)\n",
            "\n",
            "The label files contain the following information, which can be read and\n",
            "written using the matlab tools (readLabels.m, writeLabels.m) provided within\n",
            "this devkit. All values (numerical or strings) are separated via spaces,\n",
            "each row corresponds to one object. The 15 columns represent:\n",
            "\n",
            "#Values    Name      Description\n",
            "----------------------------------------------------------------------------\n",
            "   1    type         Describes the type of object: 'Car', 'Van', 'Truck',\n",
            "                     'Pedestrian', 'Person_sitting', 'Cyclist', 'Tram',\n",
            "                     'Misc' or 'DontCare'\n",
            "   1    truncated    Float from 0 (non-truncated) to 1 (truncated), where\n",
            "                     truncated refers to the object leaving image boundaries\n",
            "   1    occluded     Integer (0,1,2,3) indicating occlusion state:\n",
            "                     0 = fully visible, 1 = partly occluded\n",
            "                     2 = largely occluded, 3 = unknown\n",
            "   1    alpha        Observation angle of object, ranging [-pi..pi]\n",
            "   4    bbox         2D bounding box of object in the image (0-based index):\n",
            "                     contains left, top, right, bottom pixel coordinates\n",
            "   3    dimensions   3D object dimensions: height, width, length (in meters)\n",
            "   3    location     3D object location x,y,z in camera coordinates (in meters)\n",
            "   1    rotation_y   Rotation ry around Y-axis in camera coordinates [-pi..pi]\n",
            "   1    score        Only for results: Float, indicating confidence in\n",
            "                     detection, needed for p/r curves, higher is better.\n",
            "\n",
            "Here, 'DontCare' labels denote regions in which objects have not been labeled,\n",
            "for example because they have been too far away from the laser scanner. To\n",
            "prevent such objects from being counted as false positives our evaluation\n",
            "script will ignore objects detected in don't care regions of the test set.\n",
            "You can use the don't care labels in the training set to avoid that your object\n",
            "detector is harvesting hard negatives from those areas, in case you consider\n",
            "non-object regions from the training images as negative examples.\n",
            "\n",
            "The coordinates in the camera coordinate system can be projected in the image\n",
            "by using the 3x4 projection matrix in the calib folder, where for the left\n",
            "color camera for which the images are provided, P2 must be used. The\n",
            "difference between rotation_y and alpha is, that rotation_y is directly\n",
            "given in camera coordinates, while alpha also considers the vector from the\n",
            "camera center to the object center, to compute the relative orientation of\n",
            "the object with respect to the camera. For example, a car which is facing\n",
            "along the X-axis of the camera coordinate system corresponds to rotation_y=0,\n",
            "no matter where it is located in the X/Z plane (bird's eye view), while\n",
            "alpha is zero only, when this object is located along the Z-axis of the\n",
            "camera. When moving the car away from the Z-axis, the observation angle\n",
            "will change.\n",
            "\n",
            "To project a point from Velodyne coordinates into the left color image,\n",
            "you can use this formula: x = P2 * R0_rect * Tr_velo_to_cam * y\n",
            "For the right color image: x = P3 * R0_rect * Tr_velo_to_cam * y\n",
            "\n",
            "Note: All matrices are stored row-major, i.e., the first values correspond\n",
            "to the first row. R0_rect contains a 3x3 matrix which you need to extend to\n",
            "a 4x4 matrix by adding a 1 as the bottom-right element and 0's elsewhere.\n",
            "Tr_xxx is a 3x4 matrix (R|t), which you need to extend to a 4x4 matrix \n",
            "in the same way!\n",
            "\n",
            "Note, that while all this information is available for the training data,\n",
            "only the data which is actually needed for the particular benchmark must\n",
            "be provided to the evaluation server. However, all 15 values must be provided\n",
            "at all times, with the unused ones set to their default values (=invalid) as\n",
            "specified in writeLabels.m. Additionally a 16'th value must be provided\n",
            "with a floating value of the score for a particular detection, where higher\n",
            "indicates higher confidence in the detection. The range of your scores will\n",
            "be automatically determined by our evaluation server, you don't have to\n",
            "normalize it, but it should be roughly linear. If you use writeLabels.m for\n",
            "writing your results, this function will take care of storing all required\n",
            "data correctly.\n",
            "\n",
            "2D Object Detection Benchmark\n",
            "=============================\n",
            "\n",
            "The goal in the 2D object detection task is to train object detectors for the\n",
            "classes 'Car', 'Pedestrian', and 'Cyclist'. The object detectors must\n",
            "provide as output the 2D 0-based bounding box in the image using the format\n",
            "specified above, as well as a detection score, indicating the confidence\n",
            "in the detection. All other values must be set to their default values\n",
            "(=invalid), see above. One text file per image must be provided in a zip\n",
            "archive, where each file can contain many detections, depending on the \n",
            "number of objects per image. In our evaluation we only evaluate detections/\n",
            "objects larger than 25 pixel (height) in the image and do not count 'Van' as\n",
            "false positives for 'Car' or 'Sitting Person' as false positive for 'Pedestrian'\n",
            "due to their similarity in appearance. As evaluation criterion we follow\n",
            "PASCAL and require the intersection-over-union of bounding boxes to be\n",
            "larger than 50% for an object to be detected correctly.\n",
            "\n",
            "Object Orientation Estimation Benchmark\n",
            "=======================================\n",
            "\n",
            "This benchmark is similar as the previous one, except that you have to\n",
            "provide additionally the most likely relative object observation angle\n",
            "(=alpha) for each detection. As described in our paper, our score here\n",
            "considers both, the detection performance as well as the orientation\n",
            "estimation performance of the algorithm jointly.\n",
            "\n",
            "3D Object Detection Benchmark\n",
            "=============================\n",
            "\n",
            "The goal in the 3D object detection task is to train object detectors for\n",
            "the classes 'Car', 'Pedestrian', and 'Cyclist'. The object detectors\n",
            "must provide BOTH the 2D 0-based bounding box in the image as well as the 3D\n",
            "bounding box (in the format specified above, i.e. 3D dimensions and 3D locations)\n",
            "and the detection score/confidence. Note that the 2D bounding box should correspond\n",
            "to the projection of the 3D bounding box - this is required to filter objects\n",
            "larger than 25 pixel (height). We also note that not all objects in the point clouds\n",
            "have been labeled. To avoid false positives, detections not visible on the image plane\n",
            "should be filtered (the evaluation does not take care of this, see \n",
            "'cpp/evaluate_object.cpp'). Similar to the 2D object detection benchmark,\n",
            "we do not count 'Van' as false positives for 'Car' or 'Sitting Person'\n",
            "as false positive for 'Pedestrian'. Evaluation criterion follows the 2D\n",
            "object detection benchmark (using 3D bounding box overlap).\n",
            "\n",
            "Bird's Eye View Benchmark\n",
            "=========================\n",
            "\n",
            "The goal in the bird's eye view detection task is to train object detectors\n",
            "for the classes 'Car', 'Pedestrian', and 'Cyclist' where the detectors must provide\n",
            "BOTH the 2D 0-based bounding box in the image as well as the 3D bounding box\n",
            "in bird's eye view and the detection score/confidence. This means that the 3D\n",
            "bounding box does not have to include information on the height axis, i.e.\n",
            "the height of the bounding box and the bounding box location along the height axis.\n",
            "For example, when evaluating the bird's eye view benchmark only (without the\n",
            "3D object detection benchmark), the height of the bounding box can be set to\n",
            "a value equal to or smaller than zero. Similarly, the y-axis location of the\n",
            "bounding box can be set to -1000 (note that an arbitrary negative value will\n",
            "not work). As above, we note that the 2D bounding boxes are required to filter\n",
            "objects larger than 25 pixel (height) and that - to avoid false positives - detections\n",
            "not visible on the image plane should be filtered. As in all benchmarks, we do\n",
            "not count 'Van' as false positives for 'Car' or 'Sitting Person' as false positive\n",
            "for 'Pedestrian'. Evaluation criterion follows the above benchmarks using\n",
            "a bird's eye view bounding box overlap.\n",
            "\n",
            "Mapping to Raw Data\n",
            "===================\n",
            "\n",
            "Note that this section is additional to the benchmark, and not required for\n",
            "solving the object detection task.\n",
            "\n",
            "In order to allow the usage of the laser point clouds, gps data, the right\n",
            "camera image and the grayscale images for the TRAINING data as well, we\n",
            "provide the mapping of the training set to the raw data of the KITTI dataset.\n",
            "\n",
            "This information is saved in mapping/train_mapping.txt and train_rand.txt:\n",
            "\n",
            "train_rand.txt: Random permutation, assigning a unique index to each image\n",
            "from the object detection training set. The index is 1-based.\n",
            "\n",
            "train_mapping.txt: Maps each unique index (= 1-based line numbers) to a zip\n",
            "file of the KITTI raw data set files. Note that those files are split into\n",
            "several categories on the website!\n",
            "\n",
            "Example: Image 0 from the training set has index 7282 and maps to date\n",
            "2011_09_28, drive 106 and frame 48. Drives and frames are 0-based.\n",
            "\n",
            "Evaluation Protocol:\n",
            "====================\n",
            "\n",
            "For transparency we have included the KITTI evaluation code in the\n",
            "subfolder 'cpp' of this development kit. It can be compiled via:\n",
            "\n",
            "g++ -O3 -DNDEBUG -o evaluate_object evaluate_object.cpp\n",
            "\n",
            "or using CMake and the provided 'CMakeLists.txt'.\n",
            "\n",
            "IMPORTANT NOTE:\n",
            "\n",
            "This code will result in 41 values (41 recall discretization steps). However,\n",
            "note that in order to compute average precision, we follow the PASCAL protocol\n",
            "and average by summing in 10% recall steps. The pseudocode for computing average\n",
            "precision or orientation similarity is given as follows:\n",
            "\n",
            "sum = 0;\n",
            "for (i=0; i<=40; i+=4)\n",
            "  sum += vals[i];\n",
            "average = sum/11.0;\n",
            "\n"
          ],
          "name": "stdout"
        }
      ]
    },
    {
      "cell_type": "code",
      "metadata": {
        "id": "6y4704C2-cJ_",
        "colab_type": "code",
        "colab": {
          "base_uri": "https://localhost:8080/",
          "height": 35
        },
        "outputId": "4733c82f-ac8f-4a80-f98b-e8b8af8baa7b"
      },
      "source": [
        "len(items)"
      ],
      "execution_count": 65,
      "outputs": [
        {
          "output_type": "execute_result",
          "data": {
            "text/plain": [
              "7481"
            ]
          },
          "metadata": {
            "tags": []
          },
          "execution_count": 65
        }
      ]
    },
    {
      "cell_type": "code",
      "metadata": {
        "id": "Xp80HWdo-pPr",
        "colab_type": "code",
        "colab": {}
      },
      "source": [
        ""
      ],
      "execution_count": null,
      "outputs": []
    }
  ]
}